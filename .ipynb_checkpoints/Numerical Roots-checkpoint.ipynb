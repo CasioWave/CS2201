{
 "cells": [
  {
   "cell_type": "markdown",
   "id": "ce72eda4-a022-49da-b918-3c0acf097fde",
   "metadata": {},
   "source": [
    "# Numerical Solutions\n",
    "Numerical computation of the roots of an equation of the form $f(x) = 0$.\n",
    "f can be algebriac, or transcendental."
   ]
  },
  {
   "cell_type": "markdown",
   "id": "050a4c8e-2d65-4859-9369-d9ad94c0fc01",
   "metadata": {},
   "source": [
    "## Method of tabulation"
   ]
  },
  {
   "cell_type": "code",
   "execution_count": 4,
   "id": "a01a6c27-e973-4d8c-85b6-789d756936f3",
   "metadata": {},
   "outputs": [],
   "source": [
    "def tabulation(f, xl, xr, err=0.001):\n",
    "    '''\n",
    "    f: Function\n",
    "    xl: Beginning of the range\n",
    "    xr: The end of the range\n",
    "    over which to look for the root\n",
    "    err: Error in the root that is desired\n",
    "    '''\n",
    "    h = err\n",
    "    x1 = xl\n",
    "    x2 = xl+h\n",
    "    while x2 <= xr:\n",
    "        y1 = f(x1)\n",
    "        y2 = f(x2)\n",
    "        if y1*y2 < 0:\n",
    "            break\n",
    "        else:\n",
    "            x1 = x1+h\n",
    "            x2 = x2+h\n",
    "    return (x1+x2)/2"
   ]
  },
  {
   "cell_type": "code",
   "execution_count": 5,
   "id": "d1e6c4a8-06a6-4a0f-bb8d-e7c60851db44",
   "metadata": {},
   "outputs": [
    {
     "name": "stdout",
     "output_type": "stream",
     "text": [
      "0.9995000000000007\n"
     ]
    }
   ],
   "source": [
    "def g(x):\n",
    "    return x**2 - 1\n",
    "\n",
    "print(tabulation(g,0,10))"
   ]
  },
  {
   "cell_type": "markdown",
   "id": "51360eb2-8eb0-4a5b-8ef6-31e27198b83a",
   "metadata": {},
   "source": [
    "### Improved Method of tabulation"
   ]
  },
  {
   "cell_type": "code",
   "execution_count": 6,
   "id": "9514358c-3f23-4bec-9258-76e1a2a30311",
   "metadata": {},
   "outputs": [],
   "source": [
    "def imp_tab(f, xl, xr, err=0.001, step=0.1):\n",
    "    h = step\n",
    "    x1 = xl\n",
    "    x2 = xl + h\n",
    "    while x2 <= xr:\n",
    "        y1 = f(x1)\n",
    "        y2 = f(x2)\n",
    "        if y1*y2 < 0:\n",
    "            break\n",
    "        else:\n",
    "            x1 = x1+h\n",
    "            x2 = x2+h\n",
    "    if x2 >= xr:\n",
    "        return False\n",
    "    else:\n",
    "        if x2-x1 < err:\n",
    "            return (x1+x2)/2\n",
    "        else:\n",
    "            return imp_tab(f,x1,x2,err,h/2)"
   ]
  },
  {
   "cell_type": "code",
   "execution_count": 7,
   "id": "d86d3d40-9de6-4581-8ec9-ff26c8b6dd7c",
   "metadata": {},
   "outputs": [
    {
     "name": "stdout",
     "output_type": "stream",
     "text": [
      "-0.9996093750000187\n"
     ]
    }
   ],
   "source": [
    "print(imp_tab(g,-10,0))"
   ]
  },
  {
   "cell_type": "markdown",
   "id": "470616c5-d557-4f54-9520-46da5c04e51a",
   "metadata": {},
   "source": [
    "## Method of Bisection"
   ]
  },
  {
   "cell_type": "code",
   "execution_count": 20,
   "id": "860aa968-f646-44fd-83b0-f45dad8844c9",
   "metadata": {},
   "outputs": [],
   "source": [
    "def bisection(f, a, b, err=0.001):\n",
    "    if not (f(a)*f(b) < 0):\n",
    "        return False\n",
    "    while True:\n",
    "        m = (a+b)/2\n",
    "        r = f(m)\n",
    "        if r == 0:\n",
    "            break\n",
    "        elif abs(r) < err:\n",
    "            break\n",
    "        else:\n",
    "            if f(a)*r < 0:\n",
    "                a = a\n",
    "                b = m\n",
    "            if f(b)*r < 0:\n",
    "                a = m\n",
    "                b = b\n",
    "    return m"
   ]
  },
  {
   "cell_type": "code",
   "execution_count": null,
   "id": "28e8a9ed-22f4-42ab-8333-e8811ea3f2f0",
   "metadata": {},
   "outputs": [],
   "source": [
    "bisection(g,-10,0)"
   ]
  },
  {
   "cell_type": "markdown",
   "id": "3b23dad3-e884-4ab8-a894-026cf1864407",
   "metadata": {},
   "source": [
    "## Newton Raphson Method"
   ]
  },
  {
   "cell_type": "code",
   "execution_count": 22,
   "id": "5885b907-b9b0-4e6b-a72a-3923d545ab77",
   "metadata": {},
   "outputs": [],
   "source": [
    "def numeric_diff(f,x,err=0.001):\n",
    "    '''\n",
    "    Numerically calculates the derivative of f at a point x\n",
    "    '''\n",
    "    a = f(x)\n",
    "    b = f(x+err)\n",
    "    r = (b-a)/err\n",
    "    return r\n",
    "\n",
    "def newton_raphson(f,a,err=0.001):\n",
    "    while True:\n",
    "        r = f(a)\n",
    "        if r == 0:\n",
    "            break\n",
    "        elif abs(r) < err:\n",
    "            break\n",
    "        else:\n",
    "            a = a - (f(a)/numeric_diff(f,a))\n",
    "    return a"
   ]
  },
  {
   "cell_type": "code",
   "execution_count": 23,
   "id": "b1770454-a702-4208-9c0f-3be3449c7efd",
   "metadata": {},
   "outputs": [
    {
     "data": {
      "text/plain": [
       "-1.0000035177647153"
      ]
     },
     "execution_count": 23,
     "metadata": {},
     "output_type": "execute_result"
    }
   ],
   "source": [
    "newton_raphson(g,-10)"
   ]
  },
  {
   "cell_type": "markdown",
   "id": "83a1833e-b428-4114-b9d7-bf8e55fb2019",
   "metadata": {},
   "source": [
    "## Regula Falsi Method"
   ]
  },
  {
   "cell_type": "code",
   "execution_count": 24,
   "id": "b5497310-3c62-4bb4-b309-6dda9179e085",
   "metadata": {},
   "outputs": [],
   "source": [
    "def regula_falsi(f,a,b,err=0.001):\n",
    "    while True:\n",
    "        if abs(f(a))<err :\n",
    "            return a\n",
    "        elif abs(f(b))<err:\n",
    "            return b\n",
    "        else:\n",
    "            x = a - f(a)*((b-a)/(f(b)-f(a)))\n",
    "            if x*f(a) < 0:\n",
    "                a = a\n",
    "                b = x\n",
    "            elif x*f(b) < 0:\n",
    "                b = b\n",
    "                a = x\n",
    "    return False"
   ]
  },
  {
   "cell_type": "code",
   "execution_count": 25,
   "id": "12cfc3cf-b534-407c-9960-91e6f356ef29",
   "metadata": {},
   "outputs": [
    {
     "data": {
      "text/plain": [
       "-0.9995628528213523"
      ]
     },
     "execution_count": 25,
     "metadata": {},
     "output_type": "execute_result"
    }
   ],
   "source": [
    "regula_falsi(g,-10,0)"
   ]
  },
  {
   "cell_type": "code",
   "execution_count": null,
   "id": "3858b565-e27c-46d5-9bca-5bc1a6e80749",
   "metadata": {},
   "outputs": [],
   "source": []
  }
 ],
 "metadata": {
  "kernelspec": {
   "display_name": "Python 3 (ipykernel)",
   "language": "python",
   "name": "python3"
  },
  "language_info": {
   "codemirror_mode": {
    "name": "ipython",
    "version": 3
   },
   "file_extension": ".py",
   "mimetype": "text/x-python",
   "name": "python",
   "nbconvert_exporter": "python",
   "pygments_lexer": "ipython3",
   "version": "3.11.6"
  }
 },
 "nbformat": 4,
 "nbformat_minor": 5
}
