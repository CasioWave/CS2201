{
 "cells": [
  {
   "cell_type": "markdown",
   "id": "08f803f4-8353-4274-b154-c7dfa7edf32d",
   "metadata": {},
   "source": [
    "# Ungraded Probelms Set 2 Solutions"
   ]
  },
  {
   "cell_type": "markdown",
   "id": "97238ed2-1cd5-4201-9a83-c9604d4ab04d",
   "metadata": {},
   "source": [
    "## Q1"
   ]
  },
  {
   "cell_type": "code",
   "execution_count": 2,
   "id": "c26d245b-d6dd-437e-bce3-8593c7bc2a19",
   "metadata": {},
   "outputs": [
    {
     "name": "stdout",
     "output_type": "stream",
     "text": [
      "mitochondria\n",
      "mitochondri\n",
      "mitochondr\n",
      "mitochond\n",
      "mitochon\n",
      "mitocho\n",
      "mitoch\n",
      "mitoc\n",
      "mito\n",
      "mit\n",
      "mi\n",
      "m\n"
     ]
    }
   ],
   "source": [
    "m = \"mitochondria\"\n",
    "for i in range(len(m),0,-1):\n",
    "    print(m[:i])"
   ]
  },
  {
   "cell_type": "markdown",
   "id": "7fce93f2-2728-4091-91b0-7cdbfd73e79d",
   "metadata": {},
   "source": [
    "## Q2"
   ]
  },
  {
   "cell_type": "code",
   "execution_count": 3,
   "id": "065ee60a-d6c2-4afa-803a-6a0d0df844ce",
   "metadata": {},
   "outputs": [
    {
     "name": "stdout",
     "output_type": "stream",
     "text": [
      "The longest name found is: Potassium , and it has a length of 9\n"
     ]
    }
   ],
   "source": [
    "chemicals = [\"Sodium\", \"Potassium\",\"Chlorine\",\"Oganesson\",\"Argon\"]\n",
    "l = [len(i) for i in chemicals]\n",
    "ma = max(l)\n",
    "max_index = l.index(ma)\n",
    "print(\"The longest name found is: {chemical} , and it has a length of {length}\".format(chemical = chemicals[max_index],length = ma))"
   ]
  },
  {
   "cell_type": "markdown",
   "id": "539ee089-a176-480d-9ccf-bee2032f2ccf",
   "metadata": {},
   "source": [
    "## Q3"
   ]
  },
  {
   "cell_type": "code",
   "execution_count": 5,
   "id": "e7b61a21-3bd2-4433-8a61-355116f585e1",
   "metadata": {},
   "outputs": [
    {
     "name": "stdin",
     "output_type": "stream",
     "text": [
      "Enter your name ->  Diptanuj Sarkar\n"
     ]
    },
    {
     "name": "stdout",
     "output_type": "stream",
     "text": [
      "You abbreviated name is:  DS\n"
     ]
    }
   ],
   "source": [
    "name = input(\"Enter your name -> \")\n",
    "l = name.split(\" \")\n",
    "initials = [i[0].upper() for i in l]\n",
    "a = ''\n",
    "for i in initials:\n",
    "    a += i\n",
    "print(\"You abbreviated name is: \", a)"
   ]
  },
  {
   "cell_type": "markdown",
   "id": "c495e7c1-a662-4b5d-82f8-c4c0ef601531",
   "metadata": {},
   "source": [
    "## Q4"
   ]
  },
  {
   "cell_type": "code",
   "execution_count": 16,
   "id": "79c48ea1-918b-4622-a4f1-d58153ebc1e8",
   "metadata": {},
   "outputs": [
    {
     "name": "stdout",
     "output_type": "stream",
     "text": [
      "1\n",
      "1\n",
      "2\n",
      "3\n",
      "5\n",
      "8\n",
      "13\n",
      "21\n",
      "34\n",
      "55\n",
      "89\n",
      "144\n"
     ]
    }
   ],
   "source": [
    "n = 0\n",
    "a = 1\n",
    "b = 1\n",
    "print(a)\n",
    "while n <= 10:\n",
    "    print(b)\n",
    "    n+=1\n",
    "    c=a+b\n",
    "    a = b\n",
    "    b = c"
   ]
  },
  {
   "cell_type": "markdown",
   "id": "6c797bc2-c0d0-4e93-b948-112b34ec8059",
   "metadata": {},
   "source": [
    "## Q5"
   ]
  },
  {
   "cell_type": "code",
   "execution_count": 11,
   "id": "2b09104b-331b-4e4a-b40e-344670183cb8",
   "metadata": {},
   "outputs": [
    {
     "name": "stdout",
     "output_type": "stream",
     "text": [
      " 1\n",
      " 1 2\n",
      " 1 2 3\n",
      " 1 2 3 4\n",
      " 1 2 3 4 5\n"
     ]
    }
   ],
   "source": [
    "n=5\n",
    "for i in range(1,n+1):\n",
    "    a = ''\n",
    "    for j in range(1,i+1):\n",
    "        a+= \" \" + str(j)\n",
    "    print(a)"
   ]
  },
  {
   "cell_type": "markdown",
   "id": "50ad9709-efa6-453a-8cd5-332b45e3629e",
   "metadata": {},
   "source": [
    "## Q6"
   ]
  },
  {
   "cell_type": "code",
   "execution_count": 15,
   "id": "4e2c5199-4462-451a-a2ab-faff1dd41375",
   "metadata": {},
   "outputs": [
    {
     "name": "stdout",
     "output_type": "stream",
     "text": [
      " 1\n",
      " 1 3\n",
      " 1 3 5\n",
      " 1 3 5 7\n",
      " 1 3 5 7 9\n"
     ]
    }
   ],
   "source": [
    "n=5\n",
    "for i in range(1,n+1):\n",
    "    a = ''\n",
    "    for j in range(1,i+1):\n",
    "        a+= \" \" + str(2*j-1)\n",
    "    print(a)"
   ]
  },
  {
   "cell_type": "markdown",
   "id": "74ecd755-014c-4a2b-adb9-d1856ad86c35",
   "metadata": {},
   "source": [
    "## Q7"
   ]
  },
  {
   "cell_type": "code",
   "execution_count": 4,
   "id": "e775e1f1-104f-485a-a00c-61fa845075ca",
   "metadata": {},
   "outputs": [
    {
     "name": "stdout",
     "output_type": "stream",
     "text": [
      "1 2 3 4 5 6 \n",
      "1 2 3 4 5 \n",
      "1 2 3 4 \n",
      "1 2 3 \n",
      "1 2 \n",
      "1 \n"
     ]
    }
   ],
   "source": [
    "n=5\n",
    "for i in range(n+1,0,-1):\n",
    "    a = ''\n",
    "    for j in range(1,i+1):\n",
    "        a+=str(j)+' '\n",
    "    print(a)"
   ]
  },
  {
   "cell_type": "markdown",
   "id": "05bd6850-2665-4595-816d-15bd25341ae5",
   "metadata": {},
   "source": [
    "## Q8"
   ]
  },
  {
   "cell_type": "code",
   "execution_count": 12,
   "id": "665ef79a-7707-41a6-894b-41d548be0a27",
   "metadata": {},
   "outputs": [
    {
     "name": "stdout",
     "output_type": "stream",
     "text": [
      "123454321\n",
      " 2345432\n",
      "  34543\n",
      "   454\n",
      "    5\n"
     ]
    }
   ],
   "source": [
    "n = 5\n",
    "for i in range(1,n+1):\n",
    "    l = [str(n)]\n",
    "    k = [str(j) for j in range(i,n)]\n",
    "    kl = k[::-1]\n",
    "    l = k+l+kl\n",
    "    b = ' '*(i-1)\n",
    "    a = ''\n",
    "    for j in l:\n",
    "        a+=j\n",
    "    print(b+a)"
   ]
  },
  {
   "cell_type": "markdown",
   "id": "0b8de439-70e6-4b9d-b2c1-1b809dab26f5",
   "metadata": {},
   "source": [
    "## Q9"
   ]
  },
  {
   "cell_type": "code",
   "execution_count": 18,
   "id": "8e6bacf4-a72b-44a4-a42d-10364eac820d",
   "metadata": {},
   "outputs": [
    {
     "name": "stdin",
     "output_type": "stream",
     "text": [
      "Enter the username ->  Diptanuj\n",
      "Enter the password ->  123\n"
     ]
    },
    {
     "name": "stdout",
     "output_type": "stream",
     "text": [
      "Invalid Credentials!\n"
     ]
    }
   ],
   "source": [
    "D = {'Diptanuj':'1324'}\n",
    "\n",
    "def validate(D):\n",
    "    '''\n",
    "    Takes a dictionary of username, password pairs\n",
    "    and checks whether the user input can validate\n",
    "    or not\n",
    "    '''\n",
    "    username = input('Enter the username -> ')\n",
    "    if username in D.keys():\n",
    "        passwd = input('Enter the password -> ')\n",
    "        if D[username] == passwd:\n",
    "            print('Welcome to the portal!')\n",
    "        else:\n",
    "            print('Invalid Credentials!')\n",
    "    else:\n",
    "        print('Invalid Credentials!')\n",
    "\n",
    "validate(D)"
   ]
  },
  {
   "cell_type": "code",
   "execution_count": 23,
   "id": "eaefe1ee-f8e5-44e5-bbbf-339a22e0995d",
   "metadata": {},
   "outputs": [
    {
     "name": "stdin",
     "output_type": "stream",
     "text": [
      "Enter the username ->  Diptanuj\n",
      "Enter the new password ->  1234\n",
      "Enter the new password again ->  1234\n"
     ]
    },
    {
     "name": "stdout",
     "output_type": "stream",
     "text": [
      "Entered password does not satisfy criteria!\n"
     ]
    }
   ],
   "source": [
    "def update(D):\n",
    "    '''\n",
    "    Takes a dictionary of username-password pairs\n",
    "    and asks the user for input to update the password\n",
    "    '''\n",
    "    username = input('Enter the username -> ')\n",
    "    if username in D.keys():\n",
    "        p_prev = D[username]\n",
    "        p1 = input('Enter the new password -> ')\n",
    "        p2 = input('Enter the new password again -> ')\n",
    "        if (p1==p2) and (p1!=p_prev):\n",
    "            D[username] = p1\n",
    "            print('Password Updated!')\n",
    "        else:\n",
    "            print('Entered password does not satisfy criteria!')\n",
    "    else:\n",
    "        print('Invalid Username')\n",
    "\n",
    "update(D)"
   ]
  },
  {
   "cell_type": "markdown",
   "id": "5c2b5318-75fa-42af-87ba-f308e74d9070",
   "metadata": {},
   "source": [
    "## Q10"
   ]
  },
  {
   "cell_type": "code",
   "execution_count": 30,
   "id": "5f19e62d-4c71-4a1a-a417-cc000e2e897b",
   "metadata": {},
   "outputs": [],
   "source": [
    "def tabulation(f,b,e,err=0.1):\n",
    "    '''\n",
    "    f: Function whose root is to be found\n",
    "    b: Beginning of the interval\n",
    "    e: End of the interval\n",
    "    '''\n",
    "    h = err\n",
    "    s = b+h\n",
    "    while True:\n",
    "        if s >= e:\n",
    "            break\n",
    "        else:\n",
    "            v1 = f(b)\n",
    "            v2 = f(s)\n",
    "            if v1*v2 < 0:\n",
    "                break\n",
    "            else:\n",
    "                b = s\n",
    "                s = s+h\n",
    "    return 'The interval is [{b1},{b2}] and the error is {error}'.format(b1=b,b2=s,error=err)"
   ]
  },
  {
   "cell_type": "code",
   "execution_count": 31,
   "id": "77bae5ef-2008-46a6-b672-0c55f7cbb72c",
   "metadata": {},
   "outputs": [],
   "source": [
    "from math import sin\n",
    "def g(x):\n",
    "    return sin(x) + x**2 - 1"
   ]
  },
  {
   "cell_type": "code",
   "execution_count": 32,
   "id": "995d9770-8574-487c-86ce-b17828bc89ba",
   "metadata": {},
   "outputs": [
    {
     "data": {
      "text/plain": [
       "'The interval is [0.6,0.7] and the error is 0.1'"
      ]
     },
     "execution_count": 32,
     "metadata": {},
     "output_type": "execute_result"
    }
   ],
   "source": [
    "tabulation(g,0,1)"
   ]
  },
  {
   "cell_type": "markdown",
   "id": "28454aa6-f5ef-4eac-acc1-b3bb9a18934c",
   "metadata": {},
   "source": [
    "## Q11"
   ]
  },
  {
   "cell_type": "code",
   "execution_count": 37,
   "id": "d7e980bc-3726-4555-8409-686cf12d5456",
   "metadata": {},
   "outputs": [],
   "source": [
    "def bisection(f,b,e,err=0.000001):\n",
    "    '''\n",
    "    f: Function whose root is to be found\n",
    "    b: Beginning of the interval\n",
    "    e: End of the interval\n",
    "    '''\n",
    "    while True:\n",
    "        f1 = f(b)\n",
    "        f2 = f(e)\n",
    "        m = (b+e)/2\n",
    "        fm = f(m)\n",
    "        if abs(fm) <= err:\n",
    "            break\n",
    "        else:\n",
    "            if fm*f1 < 0:\n",
    "                b = b\n",
    "                e = m\n",
    "            elif fm*f2 < 0:\n",
    "                b = m\n",
    "                e = e\n",
    "            else:\n",
    "                print('Error')\n",
    "    return m"
   ]
  },
  {
   "cell_type": "code",
   "execution_count": 38,
   "id": "5e43065a-f345-4096-9477-9bc024733d93",
   "metadata": {},
   "outputs": [
    {
     "data": {
      "text/plain": [
       "0.6367324829101563"
      ]
     },
     "execution_count": 38,
     "metadata": {},
     "output_type": "execute_result"
    }
   ],
   "source": [
    "bisection(g,0.6,0.7)"
   ]
  },
  {
   "cell_type": "markdown",
   "id": "c46b635f-4c4f-4f79-8579-63c45927ae80",
   "metadata": {},
   "source": [
    "## Q12"
   ]
  },
  {
   "cell_type": "code",
   "execution_count": 46,
   "id": "a370cb01-63af-43be-8bae-a8312d0f3b43",
   "metadata": {},
   "outputs": [
    {
     "name": "stdin",
     "output_type": "stream",
     "text": [
      "Enter the value of n ->  10\n"
     ]
    },
    {
     "name": "stdout",
     "output_type": "stream",
     "text": [
      "Height is 1000 after 0 number bounce\n",
      "Height is 500.0 after 1 number bounce\n",
      "Height is 250.0 after 2 number bounce\n",
      "Height is 125.0 after 3 number bounce\n",
      "Height is 62.5 after 4 number bounce\n",
      "Height is 31.25 after 5 number bounce\n",
      "Height is 15.625 after 6 number bounce\n",
      "Height is 7.8125 after 7 number bounce\n",
      "Height is 3.90625 after 8 number bounce\n",
      "Height is 1.953125 after 9 number bounce\n",
      "Height is 0.9765625 after 10 number bounce\n"
     ]
    }
   ],
   "source": [
    "n = int(input('Enter the value of n -> '))\n",
    "h = 1000\n",
    "c = 0\n",
    "while True:\n",
    "    print('Height is {} after {} number bounce'.format(h,c))\n",
    "    h = h/2\n",
    "    if h <= 0.05:\n",
    "        break\n",
    "    if c == n:\n",
    "        break\n",
    "    c+=1"
   ]
  },
  {
   "cell_type": "code",
   "execution_count": null,
   "id": "6a0b4414-c9e6-4fa1-9764-056bfc8a8df6",
   "metadata": {},
   "outputs": [],
   "source": []
  }
 ],
 "metadata": {
  "kernelspec": {
   "display_name": "Python 3 (ipykernel)",
   "language": "python",
   "name": "python3"
  },
  "language_info": {
   "codemirror_mode": {
    "name": "ipython",
    "version": 3
   },
   "file_extension": ".py",
   "mimetype": "text/x-python",
   "name": "python",
   "nbconvert_exporter": "python",
   "pygments_lexer": "ipython3",
   "version": "3.11.6"
  }
 },
 "nbformat": 4,
 "nbformat_minor": 5
}
