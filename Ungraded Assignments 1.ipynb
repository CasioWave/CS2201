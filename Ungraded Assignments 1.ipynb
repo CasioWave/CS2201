{
 "cells": [
  {
   "cell_type": "markdown",
   "id": "fda9482d-4b31-44bd-a91f-03078878e19a",
   "metadata": {},
   "source": [
    "# Solutions for the ungraded assignments"
   ]
  },
  {
   "cell_type": "markdown",
   "id": "eaa5323b-cf56-4516-acaa-bf4cb0e2514a",
   "metadata": {},
   "source": [
    "## Set 1"
   ]
  },
  {
   "cell_type": "markdown",
   "id": "d2b3f249-cd4f-4090-b2df-fa34e1a12ed1",
   "metadata": {},
   "source": [
    "### Q1"
   ]
  },
  {
   "cell_type": "code",
   "execution_count": 1,
   "id": "98860e08-c39b-4e9d-838a-491da70dfd01",
   "metadata": {},
   "outputs": [],
   "source": [
    "x = [i for i in range(0,10)]"
   ]
  },
  {
   "cell_type": "code",
   "execution_count": 2,
   "id": "2c40853f-de9f-4a51-9922-699a682d8cdb",
   "metadata": {},
   "outputs": [
    {
     "data": {
      "text/plain": [
       "[0, 1, 2, 3, 4, 5, 6, 7, 8, 9]"
      ]
     },
     "execution_count": 2,
     "metadata": {},
     "output_type": "execute_result"
    }
   ],
   "source": [
    "x"
   ]
  },
  {
   "cell_type": "code",
   "execution_count": 3,
   "id": "0f94d83e-1c7b-4e6f-82c5-7709caf1b22a",
   "metadata": {},
   "outputs": [],
   "source": [
    "y = [i for i in range(3,13)]"
   ]
  },
  {
   "cell_type": "code",
   "execution_count": 4,
   "id": "cdf7b82e-b548-41bc-8bec-d98aaede9aa4",
   "metadata": {},
   "outputs": [
    {
     "data": {
      "text/plain": [
       "[3, 4, 5, 6, 7, 8, 9, 10, 11, 12]"
      ]
     },
     "execution_count": 4,
     "metadata": {},
     "output_type": "execute_result"
    }
   ],
   "source": [
    "y"
   ]
  },
  {
   "cell_type": "code",
   "execution_count": 5,
   "id": "6931309b-f83a-41f4-b494-6500230a5da4",
   "metadata": {},
   "outputs": [
    {
     "name": "stdout",
     "output_type": "stream",
     "text": [
      "[9, 8, 7, 6, 5, 4, 3, 2, 1, 0]\n"
     ]
    }
   ],
   "source": [
    "print(x[::-1])"
   ]
  },
  {
   "cell_type": "code",
   "execution_count": 6,
   "id": "8b9c2b0d-f0b2-4eac-964d-e4079e2db84a",
   "metadata": {},
   "outputs": [
    {
     "name": "stdout",
     "output_type": "stream",
     "text": [
      "[1, 3, 5, 7, 9]\n",
      "[0, 2, 4, 6, 8]\n"
     ]
    }
   ],
   "source": [
    "print(x[1::2])\n",
    "print(x[::2])"
   ]
  },
  {
   "cell_type": "code",
   "execution_count": 7,
   "id": "609571ce-3641-4311-8724-76caca865620",
   "metadata": {},
   "outputs": [
    {
     "name": "stdout",
     "output_type": "stream",
     "text": [
      "They are the same\n"
     ]
    }
   ],
   "source": [
    "a = x[3]\n",
    "b = y[0]\n",
    "if a == b:\n",
    "    print('They are the same')"
   ]
  },
  {
   "cell_type": "code",
   "execution_count": 8,
   "id": "cc68239a-6b7f-4cfa-a255-ca4783558c9e",
   "metadata": {},
   "outputs": [
    {
     "ename": "ValueError",
     "evalue": "10 is not in list",
     "output_type": "error",
     "traceback": [
      "\u001b[0;31m---------------------------------------------------------------------------\u001b[0m",
      "\u001b[0;31mValueError\u001b[0m                                Traceback (most recent call last)",
      "Cell \u001b[0;32mIn[8], line 1\u001b[0m\n\u001b[0;32m----> 1\u001b[0m \u001b[38;5;28mprint\u001b[39m(\u001b[43mx\u001b[49m\u001b[38;5;241;43m.\u001b[39;49m\u001b[43mindex\u001b[49m\u001b[43m(\u001b[49m\u001b[38;5;241;43m10\u001b[39;49m\u001b[43m)\u001b[49m)\n",
      "\u001b[0;31mValueError\u001b[0m: 10 is not in list"
     ]
    }
   ],
   "source": [
    "print(x.index(10))"
   ]
  },
  {
   "cell_type": "markdown",
   "id": "9dcd51b7-6a09-49f3-9a02-c99525d4c15e",
   "metadata": {},
   "source": [
    "Note, the problem solved above has a mistake."
   ]
  },
  {
   "cell_type": "code",
   "execution_count": 9,
   "id": "5718c9a0-7d90-45bd-8c9c-1064d5cba2e9",
   "metadata": {},
   "outputs": [
    {
     "name": "stdout",
     "output_type": "stream",
     "text": [
      "4\n"
     ]
    }
   ],
   "source": [
    "print(y.index(7))"
   ]
  },
  {
   "cell_type": "code",
   "execution_count": 10,
   "id": "201eba83-c8bf-4b38-8cb7-956cf549df9c",
   "metadata": {},
   "outputs": [],
   "source": [
    "a = x+y"
   ]
  },
  {
   "cell_type": "code",
   "execution_count": 11,
   "id": "986c4123-61d3-450e-b663-c3cd5f044048",
   "metadata": {},
   "outputs": [
    {
     "data": {
      "text/plain": [
       "[0, 1, 2, 3, 4, 5, 6, 7, 8, 9, 3, 4, 5, 6, 7, 8, 9, 10, 11, 12]"
      ]
     },
     "execution_count": 11,
     "metadata": {},
     "output_type": "execute_result"
    }
   ],
   "source": [
    "a"
   ]
  },
  {
   "cell_type": "code",
   "execution_count": 12,
   "id": "67c88735-2d93-4ee8-afc3-d38b4a237514",
   "metadata": {},
   "outputs": [
    {
     "name": "stdout",
     "output_type": "stream",
     "text": [
      "Location of the maximum number ->  19\n",
      "Location of the minimum number ->  0\n"
     ]
    }
   ],
   "source": [
    "print('Location of the maximum number -> ', a.index(max(a)))\n",
    "print('Location of the minimum number -> ', a.index(min(a)))"
   ]
  },
  {
   "cell_type": "markdown",
   "id": "3afbc82b-3fc1-4176-b250-f3797ecfeaa9",
   "metadata": {},
   "source": [
    "### Q2"
   ]
  },
  {
   "cell_type": "code",
   "execution_count": 13,
   "id": "59f4c90f-3f3d-42fc-85ae-5036efc25772",
   "metadata": {},
   "outputs": [],
   "source": [
    "x = \"The quick brown fox jumps over the lazy dog\""
   ]
  },
  {
   "cell_type": "code",
   "execution_count": 15,
   "id": "dd0f6b9f-88b7-4ff0-a8c3-21994b4eaa35",
   "metadata": {},
   "outputs": [
    {
     "name": "stdout",
     "output_type": "stream",
     "text": [
      "Present\n"
     ]
    }
   ],
   "source": [
    "if \"fox\" in x : print('Present')"
   ]
  },
  {
   "cell_type": "code",
   "execution_count": 16,
   "id": "61410f1e-dd7f-4e18-9ebf-f1dcb6a5fd89",
   "metadata": {},
   "outputs": [
    {
     "name": "stdout",
     "output_type": "stream",
     "text": [
      "god yzal eht revo spmuj xof nworb kciuq ehT\n"
     ]
    }
   ],
   "source": [
    "print(x[::-1])"
   ]
  },
  {
   "cell_type": "code",
   "execution_count": 17,
   "id": "3cfe8c2a-9116-41b5-9e29-fa6c19a49148",
   "metadata": {},
   "outputs": [
    {
     "name": "stdout",
     "output_type": "stream",
     "text": [
      "T i o xusv ea g\n"
     ]
    }
   ],
   "source": [
    "print(x[::3])"
   ]
  },
  {
   "cell_type": "code",
   "execution_count": 18,
   "id": "b78b6b80-549f-4049-b08b-0af34aaa0c86",
   "metadata": {},
   "outputs": [
    {
     "name": "stdout",
     "output_type": "stream",
     "text": [
      "Tqkofjsehad\n"
     ]
    }
   ],
   "source": [
    "print(x[::4])"
   ]
  },
  {
   "cell_type": "code",
   "execution_count": 19,
   "id": "da3ac02e-4716-494e-9fad-b87338efd670",
   "metadata": {},
   "outputs": [
    {
     "name": "stdout",
     "output_type": "stream",
     "text": [
      "The number of characters in the sentence ->  43\n"
     ]
    }
   ],
   "source": [
    "print('The number of characters in the sentence -> ',len(x))"
   ]
  },
  {
   "cell_type": "code",
   "execution_count": 20,
   "id": "98efdbd2-0e23-45e7-aa02-d6520923c0d3",
   "metadata": {},
   "outputs": [
    {
     "name": "stdout",
     "output_type": "stream",
     "text": [
      "gdya h eosmjxfnobkiqeT\n"
     ]
    }
   ],
   "source": [
    "print(x[::-2])"
   ]
  },
  {
   "cell_type": "code",
   "execution_count": 22,
   "id": "194ca2f0-c113-4eae-b9a7-8158e2acaf1d",
   "metadata": {},
   "outputs": [
    {
     "name": "stdout",
     "output_type": "stream",
     "text": [
      "The dog\n"
     ]
    }
   ],
   "source": [
    "y = x[:4]\n",
    "z = x[-3:]\n",
    "print(y+z)"
   ]
  },
  {
   "cell_type": "code",
   "execution_count": 23,
   "id": "34314f54-60bd-4a54-aac0-4f966bd25a07",
   "metadata": {},
   "outputs": [
    {
     "name": "stdout",
     "output_type": "stream",
     "text": [
      "The The The The The The The The The The \n"
     ]
    }
   ],
   "source": [
    "print(y*10)"
   ]
  },
  {
   "cell_type": "markdown",
   "id": "9ed542e1-3db6-4664-ad4c-8aead3c03b30",
   "metadata": {},
   "source": [
    "### Q3"
   ]
  },
  {
   "cell_type": "code",
   "execution_count": 24,
   "id": "b628b56f-cdfb-40ad-9a9b-be63670111bc",
   "metadata": {},
   "outputs": [
    {
     "name": "stdout",
     "output_type": "stream",
     "text": [
      "Hello World\n"
     ]
    }
   ],
   "source": [
    "print('Hello World')"
   ]
  },
  {
   "cell_type": "code",
   "execution_count": 25,
   "id": "4e613016-0128-4914-b1da-d0d13c90c056",
   "metadata": {},
   "outputs": [
    {
     "name": "stdout",
     "output_type": "stream",
     "text": [
      "Hello World\n"
     ]
    }
   ],
   "source": [
    "#Comment\n",
    "print('Hello World')"
   ]
  },
  {
   "cell_type": "code",
   "execution_count": 33,
   "id": "d6fb878b-9ec6-4cc0-8a0b-55cc66b559b7",
   "metadata": {},
   "outputs": [
    {
     "name": "stdout",
     "output_type": "stream",
     "text": [
      "Name ->  Tintin\n",
      "Age ->  20\n",
      "Roll No ->  22MS038\n",
      "Hello! My name is Tintin. I am 20 years old. My roll number is 22MS038.\n",
      "Hello! My name is Tintin. I am 20 years old. My roll number is 22MS038.\n"
     ]
    }
   ],
   "source": [
    "name = 'Tintin'\n",
    "age = 20\n",
    "roll = '22MS038'\n",
    "print('Name -> ', name)\n",
    "print('Age -> ', age)\n",
    "print('Roll No -> ', roll)\n",
    "print('Hello! My name is '+name+'. I am '+str(age)+' years old. My roll number is '+roll+'.')\n",
    "print('Hello! My name is %s. I am %s years old. My roll number is %s.'%(name,age,roll))"
   ]
  },
  {
   "cell_type": "code",
   "execution_count": 27,
   "id": "60f642a0-1cd7-40ff-b07e-51e29d41578c",
   "metadata": {},
   "outputs": [
    {
     "name": "stdin",
     "output_type": "stream",
     "text": [
      "Enter the first string ->  10\n",
      "Enter the second string ->  20\n"
     ]
    },
    {
     "name": "stdout",
     "output_type": "stream",
     "text": [
      "Their sum ->  1020\n"
     ]
    }
   ],
   "source": [
    "a = input('Enter the first string -> ')\n",
    "b = input('Enter the second string -> ')\n",
    "print('Their sum -> ',a+b)"
   ]
  },
  {
   "cell_type": "code",
   "execution_count": 28,
   "id": "ebe2e1e4-2aa3-4703-88bf-16ddabf967d7",
   "metadata": {},
   "outputs": [
    {
     "name": "stdin",
     "output_type": "stream",
     "text": [
      "Enter the first string ->  10\n",
      "Enter the second string ->  20\n"
     ]
    },
    {
     "name": "stdout",
     "output_type": "stream",
     "text": [
      "Their sum ->  30\n"
     ]
    }
   ],
   "source": [
    "a = int(input('Enter the first string -> '))\n",
    "b = int(input('Enter the second string -> '))\n",
    "print('Their sum -> ',a+b)"
   ]
  },
  {
   "cell_type": "code",
   "execution_count": 29,
   "id": "9742e950-60c4-4fe7-8ec9-e66e2643606e",
   "metadata": {},
   "outputs": [
    {
     "name": "stdout",
     "output_type": "stream",
     "text": [
      "It's good to learn Python\n"
     ]
    }
   ],
   "source": [
    "print(\"It's good to learn Python\")"
   ]
  },
  {
   "cell_type": "code",
   "execution_count": 30,
   "id": "9e2330f3-c7b7-43b3-8957-d1da66062561",
   "metadata": {},
   "outputs": [
    {
     "name": "stdout",
     "output_type": "stream",
     "text": [
      "\"Where to meet you?\" I said, \"Well, use Google Meet!\"\n"
     ]
    }
   ],
   "source": [
    "print('\"Where to meet you?\" I said, \"Well, use Google Meet!\"')"
   ]
  },
  {
   "cell_type": "code",
   "execution_count": 32,
   "id": "ead005b4-7d01-4801-9416-d41d50200cfe",
   "metadata": {},
   "outputs": [
    {
     "name": "stdout",
     "output_type": "stream",
     "text": [
      "Type of a ->  <class 'int'>\n",
      "Type of b ->  <class 'float'>\n",
      "Type of c ->  <class 'str'>\n"
     ]
    }
   ],
   "source": [
    "a = 10\n",
    "b = 10.0\n",
    "c = 'a'\n",
    "print('Type of a -> ', type(a))\n",
    "print('Type of b -> ', type(b))\n",
    "print('Type of c -> ', type(c))"
   ]
  },
  {
   "cell_type": "code",
   "execution_count": 34,
   "id": "3529bf15-71aa-4a73-83e7-7b06d97f361d",
   "metadata": {},
   "outputs": [
    {
     "name": "stdin",
     "output_type": "stream",
     "text": [
      "Enter your name ->  Feluda\n"
     ]
    },
    {
     "name": "stdout",
     "output_type": "stream",
     "text": [
      "My name is Feluda\n",
      "My name is Feluda\n"
     ]
    }
   ],
   "source": [
    "Name = input('Enter your name -> ')\n",
    "print('My name is '+Name)\n",
    "print('My name is %s'%Name)"
   ]
  },
  {
   "cell_type": "code",
   "execution_count": 35,
   "id": "c7da6a71-813d-45d3-95ea-90396457398d",
   "metadata": {},
   "outputs": [
    {
     "name": "stdout",
     "output_type": "stream",
     "text": [
      "True\n"
     ]
    }
   ],
   "source": [
    "a = [1,2,3,4,5,10]\n",
    "b = [7,8,9,11,10,34]\n",
    "\n",
    "def compare(a,b):\n",
    "    for i in a:\n",
    "        for j in b:\n",
    "            if i == j:\n",
    "                return True\n",
    "            else:\n",
    "                pass\n",
    "    return False\n",
    "\n",
    "print(compare(a,b))"
   ]
  },
  {
   "cell_type": "code",
   "execution_count": 36,
   "id": "8c2994a3-d561-4f45-8b19-1ac8f0f86ac9",
   "metadata": {},
   "outputs": [
    {
     "name": "stdout",
     "output_type": "stream",
     "text": [
      "Test\n"
     ]
    }
   ],
   "source": [
    "def st(x):\n",
    "    '''\n",
    "    Takes a list of characters x\n",
    "    and prints the string after concatenating them\n",
    "    '''\n",
    "    r = ''\n",
    "    for i in x:\n",
    "        r+=i\n",
    "    return r\n",
    "\n",
    "print(st(['T','e','s','t']))"
   ]
  },
  {
   "cell_type": "code",
   "execution_count": 38,
   "id": "460b5208-02d5-445b-a3bb-e6b91e84cae8",
   "metadata": {},
   "outputs": [
    {
     "name": "stdout",
     "output_type": "stream",
     "text": [
      "Original List: \n",
      "[1, 2, 3, 4, 5, 6]\n",
      "Updated List: \n",
      "[1, 2, 4, 5, 6]\n"
     ]
    }
   ],
   "source": [
    "def rem(x,k):\n",
    "    print('Original List: ')\n",
    "    print(x)\n",
    "    del x[k-1]\n",
    "    print('Updated List: ')\n",
    "    print(x)\n",
    "\n",
    "x = [1,2,3,4,5,6]\n",
    "rem(x,3)"
   ]
  },
  {
   "cell_type": "code",
   "execution_count": null,
   "id": "f30b2cfd-278c-4f28-be3f-d7bec2b38275",
   "metadata": {},
   "outputs": [],
   "source": []
  }
 ],
 "metadata": {
  "kernelspec": {
   "display_name": "Python 3 (ipykernel)",
   "language": "python",
   "name": "python3"
  },
  "language_info": {
   "codemirror_mode": {
    "name": "ipython",
    "version": 3
   },
   "file_extension": ".py",
   "mimetype": "text/x-python",
   "name": "python",
   "nbconvert_exporter": "python",
   "pygments_lexer": "ipython3",
   "version": "3.11.6"
  }
 },
 "nbformat": 4,
 "nbformat_minor": 5
}
